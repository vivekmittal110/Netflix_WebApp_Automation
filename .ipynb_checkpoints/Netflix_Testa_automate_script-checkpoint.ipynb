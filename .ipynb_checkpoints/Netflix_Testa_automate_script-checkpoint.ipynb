{
 "cells": [
  {
   "cell_type": "code",
   "execution_count": 1,
   "id": "2c25a43d-4ccd-4193-8a06-8efc9668d9c9",
   "metadata": {},
   "outputs": [],
   "source": [
    "# Importing library\n",
    "from selenium import webdriver\n",
    "from selenium.webdriver.chrome.service import Service\n",
    "from selenium.webdriver.common.by import By\n",
    "from selenium.webdriver.common.keys import Keys\n",
    "from selenium.webdriver.common.action_chains import ActionChains\n",
    "from selenium.webdriver.support.ui import WebDriverWait\n",
    "from selenium.webdriver.support import expected_conditions as EC\n",
    "import os\n",
    "import time"
   ]
  },
  {
   "cell_type": "code",
   "execution_count": 2,
   "id": "078db055-689f-49b4-a984-faf4bb18d149",
   "metadata": {},
   "outputs": [],
   "source": [
    "# Global Variables\n",
    "test_data_path = r\"C:\\Users\\91931\\Desktop\\Netflix_WebApp_Automation\"\n",
    "os.chdir(test_data_path)\n",
    "test_data = open(\"Netflix_test_data.txt\",'r').read().split()\n",
    "\n",
    "valid_Uname = test_data[0]\n",
    "valid_Password  = test_data[1]\n",
    "\n",
    "Invalid_uname = test_data[2]\n",
    "Invalid_Password = test_data[3]\n",
    "\n",
    "driver_path = test_data[4]\n"
   ]
  },
  {
   "cell_type": "code",
   "execution_count": 3,
   "id": "3f56ada5-487f-4f5a-91ec-f4e7953de16c",
   "metadata": {},
   "outputs": [],
   "source": [
    "# Initilizing Chrome Webdriver\n",
    "service = Service(driver_path)\n",
    "driver = webdriver.Chrome(service=service)\n",
    "driver.get(\"https://www.netflix.com/login\")\n",
    "driver.maximize_window()\n",
    "action = ActionChains(driver)\n",
    "wait = WebDriverWait(driver,10)"
   ]
  },
  {
   "cell_type": "code",
   "execution_count": 4,
   "id": "a52d8bdf-4028-4b69-92c3-ae6b150c6716",
   "metadata": {},
   "outputs": [],
   "source": [
    "# User Login\n",
    "def user_login(user, password):\n",
    "    time.sleep(2)\n",
    "    username_btn = driver.find_element(By.XPATH, '//input[@name=\"userLoginId\"]')\n",
    "    password_btn = driver.find_element(By.XPATH, '//input[@name=\"password\"]')\n",
    "\n",
    "    username_btn.send_keys(Keys.CONTROL + \"a\")  # Select all text\n",
    "    username_btn.send_keys(Keys.BACKSPACE)      # Delete selected text\n",
    "    password_btn.send_keys(Keys.CONTROL + \"a\")\n",
    "    password_btn.send_keys(Keys.BACKSPACE)\n",
    "    \n",
    "    action.click(on_element = username_btn).send_keys(user)\n",
    "    action.click(on_element = password_btn).send_keys(password)\n",
    "\n",
    "    login_btn = driver.find_element(By.XPATH, '//button[@data-uia=\"login-submit-button\"]')\n",
    "    action.click(on_element = login_btn)\n",
    "    action.perform()\n",
    "    "
   ]
  },
  {
   "cell_type": "code",
   "execution_count": 5,
   "id": "cac6d92b-435b-4f18-a3c5-7e5de14189e5",
   "metadata": {},
   "outputs": [],
   "source": [
    "# edit profile\n",
    "def edit_profile_fun(edit_name,new_name):\n",
    "    time.sleep(3)\n",
    "    manage_profile_btn = driver.find_element(By.XPATH, '//a[@data-uia = \"profile-choices-manage-button\"]')\n",
    "    manage_profile_btn.click()\n",
    "    edit_profile_btn = wait.until(EC.visibility_of_element_located((By.XPATH, f'//a[span[contains(text(),\"{edit_name}\")]]')))\n",
    "    edit_profile_btn.click()\n",
    "    edit_personal_btn = wait.until(EC.visibility_of_element_located((By.XPATH, '//div[@data-cl-view = \"editProfile\"]')))\n",
    "    edit_personal_btn.click()\n",
    "\n",
    "    edit_text = wait.until(EC.visibility_of_element_located((By.XPATH, '//input[@data-uia = \"edit-profile-page+profile-name-input\"]')))\n",
    "    edit_text.send_keys(Keys.CONTROL + 'a')\n",
    "    edit_text.send_keys(Keys.BACKSPACE)\n",
    "    edit_text.send_keys(new_name)\n",
    "\n",
    "    save_btn = driver.find_element(By.XPATH, '//button[contains(text(), \"Save\")]')\n",
    "    save_btn.click()\n",
    "\n",
    "    back_btn = wait.until(EC.visibility_of_element_located((By.XPATH, '//button[@data-uia = \"account+header+nested-page-nav+button\"]')))\n",
    "    back_btn.click()\n",
    "\n",
    "    done_btn = wait.until(EC.element_to_be_clickable((By.XPATH, '//a[contains(text(), \"Done\")]')))\n",
    "    done_btn.click()\n",
    "\n",
    "    action.perform()    "
   ]
  },
  {
   "cell_type": "code",
   "execution_count": 6,
   "id": "2054ecf4-3c17-49a9-938f-513982274c99",
   "metadata": {},
   "outputs": [],
   "source": [
    "# Selecting Profile function\n",
    "def selecting_profile(profile_name):\n",
    "    time.sleep(4)\n",
    "    sel_profile = driver.find_element(By.XPATH, f'//a[span[text() = \"{profile_name}\"]]')\n",
    "    action.click(on_element = sel_profile)\n",
    "    action.perform()"
   ]
  },
  {
   "cell_type": "code",
   "execution_count": 7,
   "id": "7f800e19-3d6c-44f2-b7dd-e52f2bd507fe",
   "metadata": {},
   "outputs": [],
   "source": [
    "# Navigate Menu function\n",
    "def navigate_menu_fun(navigation_name):\n",
    "    time.sleep(2)\n",
    "    navigate_btn = driver.find_element(By.XPATH, f'//li[@class = \"navigation-tab\"]/a[contains(text(),\"{navigation_name}\")]')\n",
    "    navigate_btn.click()"
   ]
  },
  {
   "cell_type": "code",
   "execution_count": 8,
   "id": "fb73ecf5-8282-42c0-9c3b-240064519b87",
   "metadata": {},
   "outputs": [],
   "source": [
    "# Search Function\n",
    "def search(search_input):\n",
    "    time.sleep(3)\n",
    "    search_btn = driver.find_element(By.XPATH, '//button[@aria-label=\"Search\"]')\n",
    "    action.click(on_element = search_btn).send_keys(search_input).perform()\n",
    "    time.sleep(4)\n",
    "    cross_btn = wait.until(EC.element_to_be_clickable((By.XPATH,'//span[@aria-label=\"Clear input\"]')))\n",
    "    action.click(cross_btn).perform()\n",
    "    hower_app_mount = wait.until(EC.visibility_of_element_located((By.XPATH,'//div[@id = \"appMountPoint\"]')))\n",
    "    action.move_to_element(hower_app_mount).perform()"
   ]
  },
  {
   "cell_type": "code",
   "execution_count": 9,
   "id": "08c537eb-f72c-41fd-8a45-111e84986c72",
   "metadata": {},
   "outputs": [],
   "source": [
    "# PlayBack Controls function\n",
    "def playback_ctrl():\n",
    "    time.sleep(1)\n",
    "    play_btn = driver.find_element(By.XPATH, '//a[@data-uia=\"play-button\"]')\n",
    "    play_btn.click()\n",
    "    try:\n",
    "        video_hower = wait.until(EC.visibility_of_element_located((By.XPATH,'//div[@data-uia=\"video-canvas\"]')))\n",
    "        action.move_to_element(video_hower).pause(1).perform()\n",
    "    except:\n",
    "        print(\" \")\n",
    "    \n",
    "    pause_btn = wait.until(EC.element_to_be_clickable((By.XPATH,'//button[@data-uia=(\"control-play-pause-pause\")]')))\n",
    "    action.click(pause_btn).perform()\n",
    "    time.sleep(3)\n",
    "    play_btn = wait.until(EC.element_to_be_clickable((By.XPATH,'//button[@data-uia=(\"control-play-pause-play\")]')))\n",
    "    action.click(play_btn).perform()\n",
    "    time.sleep(3)\n",
    "    pause_btn = wait.until(EC.element_to_be_clickable((By.XPATH,'//button[@data-uia=(\"control-play-pause-pause\")]')))\n",
    "    action.click(pause_btn).perform()\n",
    "    time.sleep(3)\n",
    "    seek_forward_btn = wait.until(EC.element_to_be_clickable((By.XPATH,'//button[@aria-label = \"Seek Forward\"]')))\n",
    "    action.click(seek_forward_btn).perform()\n",
    "    time.sleep(2)\n",
    "    seek_back_btn = wait.until(EC.element_to_be_clickable((By.XPATH,'//button[@aria-label = \"Seek Back\"]')))\n",
    "    action.click(seek_back_btn).perform()\n",
    "    time.sleep(2)\n",
    "    mute_btn = wait.until(EC.element_to_be_clickable((By.XPATH,'//button[@aria-label = \"Volume\"]')))\n",
    "    action.click(mute_btn).perform()\n",
    "    time.sleep(2)\n",
    "    vol_btn = wait.until(EC.element_to_be_clickable((By.XPATH,'//button[@aria-label = \"Muted\"]')))\n",
    "    action.click(vol_btn).perform()\n",
    "\n",
    "    slider = wait.until(EC.visibility_of_element_located((By.XPATH, '//div[@data-uia=\"scrubber\"]')))\n",
    "    action.move_to_element(mute_btn).pause(1).perform()\n",
    "    action.click_and_hold(slider).move_by_offset(0,-10).release().perform()\n",
    "    time.sleep(2)\n",
    "    \n",
    "    back_browser_btn = wait.until(EC.element_to_be_clickable((By.XPATH, '//button[@aria-label=\"Back to Browse\"]')))\n",
    "    action.click(back_browser_btn).perform()\n",
    "    "
   ]
  },
  {
   "cell_type": "code",
   "execution_count": 10,
   "id": "419acf00-4bda-4275-bece-ead6d8e4daf3",
   "metadata": {},
   "outputs": [],
   "source": [
    "# User Logout function\n",
    "def log_out():\n",
    "    time.sleep(3)\n",
    "    hower_profile = wait.until(EC.visibility_of_element_located((By.XPATH, '//div[@class=\"account-dropdown-button\"]')))\n",
    "    action.move_to_element(hower_profile).pause(0.5).perform()\n",
    "    hower_sub_menu = wait.until(EC.visibility_of_element_located((By.XPATH, '//div[@role=\"menu\"]')))\n",
    "    action.move_to_element(hower_sub_menu).pause(0.5).perform()\n",
    "    \n",
    "    log_out_btn = wait.until(EC.element_to_be_clickable((By.XPATH, '//a[contains(text(), \"Sign out of Netflix\")]')))\n",
    "    action.click(on_element = log_out_btn)\n",
    "    action.perform()\n",
    "    driver.quit()\n",
    "    print(\"complete\")"
   ]
  },
  {
   "cell_type": "code",
   "execution_count": 11,
   "id": "b5e1010c-5159-4919-adc9-55098c33ea27",
   "metadata": {},
   "outputs": [],
   "source": [
    "# invalid Login\n",
    "user_login(Invalid_uname, Invalid_Password)\n",
    "time.sleep(1)"
   ]
  },
  {
   "cell_type": "code",
   "execution_count": 12,
   "id": "43755cd9-89e9-425a-bd27-a668d75106c0",
   "metadata": {},
   "outputs": [],
   "source": [
    "# login\n",
    "# valid login\n",
    "user_login(valid_Uname, valid_Password)\n",
    "time.sleep(1)"
   ]
  },
  {
   "cell_type": "code",
   "execution_count": 13,
   "id": "d86f0105-f8c8-4b73-b3c5-6e78577fa566",
   "metadata": {
    "scrolled": true
   },
   "outputs": [],
   "source": [
    "# edit file name\n",
    "edit_profile_name = \"nitin\"#str(input(\"Enter which profile name you want to change : \"))\n",
    "new_name = \"nitin\"#str(input(\"Enter new name : \"))\n",
    "edit_profile_fun(edit_profile_name, new_name)"
   ]
  },
  {
   "cell_type": "code",
   "execution_count": 14,
   "id": "f1f1b974-0cc3-4075-8604-b468eea113db",
   "metadata": {
    "scrolled": true
   },
   "outputs": [],
   "source": [
    "# profile selection\n",
    "profile_name_input = \"nitin\"#input(\"Enter your profile name : \")\n",
    "selecting_profile(profile_name_input)"
   ]
  },
  {
   "cell_type": "code",
   "execution_count": 15,
   "id": "893a49bf-3393-4441-95db-9bc2f32a69b7",
   "metadata": {},
   "outputs": [],
   "source": [
    "# Navigate Menu\n",
    "menu = [\"TV Shows\",\"Movies\",\"New & Popular\",\"My List\",\"Browse by Languages\",\"Home\"]\n",
    "for i in menu:\n",
    "    time.sleep(1)\n",
    "    navigate_btn_name = i#input(\"Enter which page you want to visit : \")\n",
    "    navigate_menu_fun(navigate_btn_name)"
   ]
  },
  {
   "cell_type": "code",
   "execution_count": 16,
   "id": "9a8c798c-1bd5-4131-a626-626ed15b24d1",
   "metadata": {},
   "outputs": [],
   "source": [
    "# search on home page\n",
    "search_input = \"horror\"#input(\"Enter what you want to search : \")\n",
    "search(search_input)\n"
   ]
  },
  {
   "cell_type": "code",
   "execution_count": 17,
   "id": "ef067bf4-6e78-4f64-a5f5-0ba65fa96ee3",
   "metadata": {},
   "outputs": [],
   "source": [
    "# Playback \n",
    "playback_ctrl()"
   ]
  },
  {
   "cell_type": "code",
   "execution_count": 18,
   "id": "41a6216c-762f-493c-83ad-5a2f6b6eb578",
   "metadata": {},
   "outputs": [
    {
     "name": "stdout",
     "output_type": "stream",
     "text": [
      "complete\n"
     ]
    }
   ],
   "source": [
    "# Logout\n",
    "log_out()"
   ]
  }
 ],
 "metadata": {
  "kernelspec": {
   "display_name": "Python 3 (ipykernel)",
   "language": "python",
   "name": "python3"
  },
  "language_info": {
   "codemirror_mode": {
    "name": "ipython",
    "version": 3
   },
   "file_extension": ".py",
   "mimetype": "text/x-python",
   "name": "python",
   "nbconvert_exporter": "python",
   "pygments_lexer": "ipython3",
   "version": "3.12.7"
  }
 },
 "nbformat": 4,
 "nbformat_minor": 5
}
